{
 "cells": [
  {
   "cell_type": "code",
   "execution_count": 2,
   "id": "9e5ff2ba-0709-4fc4-987c-858138b15d39",
   "metadata": {},
   "outputs": [
    {
     "name": "stdout",
     "output_type": "stream",
     "text": [
      "0 1 1 2 3 5 8 13 21 34 "
     ]
    }
   ],
   "source": [
    "x,y = 0,1\n",
    "print(x,end = \" \")\n",
    "while y < 50:\n",
    "    print(y,end = \" \")\n",
    "    x , y = y , x+y"
   ]
  },
  {
   "cell_type": "code",
   "execution_count": null,
   "id": "6b690a53-0645-4b58-a0f2-cbc59d28c1de",
   "metadata": {},
   "outputs": [],
   "source": []
  }
 ],
 "metadata": {
  "kernelspec": {
   "display_name": "Python 3 (ipykernel)",
   "language": "python",
   "name": "python3"
  },
  "language_info": {
   "codemirror_mode": {
    "name": "ipython",
    "version": 3
   },
   "file_extension": ".py",
   "mimetype": "text/x-python",
   "name": "python",
   "nbconvert_exporter": "python",
   "pygments_lexer": "ipython3",
   "version": "3.12.1"
  }
 },
 "nbformat": 4,
 "nbformat_minor": 5
}
